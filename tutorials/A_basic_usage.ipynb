{
  "cells": [
    {
      "cell_type": "markdown",
      "metadata": {
        "id": "m8Oc1PiNjOwB"
      },
      "source": [
        "# Tutorial A - basic usage\n",
        "\n",
        "In this tutorial you will learning the basics of running retrosynthesis experiments with AiZynthFinder.\n",
        "\n",
        "After the completion of this tutorial, you will know:\n",
        "* How to download public models and data files\n",
        "* How to write a simple configuration file\n",
        "* How to select models to be used in search\n",
        "* How to select stock to be used in search\n",
        "* How to perform a retrosynthesis search\n",
        "* How to perform basic analysis of the outut\n",
        "\n",
        "\n",
        "We will start with installing the package from pypi"
      ]
    },
    {
      "cell_type": "code",
      "execution_count": null,
      "metadata": {
        "colab": {
          "base_uri": "https://localhost:8080/",
          "height": 1000
        },
        "id": "pkieNY8ikT-I",
        "outputId": "067de950-6a3e-4573-ed7c-e821633b45fe"
      },
      "outputs": [],
      "source": [
        "!pip install --quiet aizynthfinder\n",
        "!pip install --ignore-installed Pillow==9.0.0"
      ]
    },
    {
      "cell_type": "markdown",
      "metadata": {
        "id": "ZeZe5rNCq-DG"
      },
      "source": [
        "### Download public data files\n",
        "\n",
        "Throughout this tutorial we will use publicly available models and data files.\n",
        "These can be downloaded to our local folder using a convienient tool.\n",
        "\n",
        "We will download\n",
        "- Expansion models trained on the USPTO data\n",
        "- Filter model trained on UPSTO data\n",
        "- ZINC stock file"
      ]
    },
    {
      "cell_type": "code",
      "execution_count": null,
      "metadata": {
        "colab": {
          "base_uri": "https://localhost:8080/"
        },
        "id": "JUDc5WN3rJvn",
        "outputId": "19b11cc9-4944-4cbc-9be6-cd4bbf5539f7"
      },
      "outputs": [],
      "source": [
        "!mkdir --parents data && download_public_data data"
      ]
    },
    {
      "cell_type": "markdown",
      "metadata": {
        "id": "uK-fa0tRp7Eu"
      },
      "source": [
        "### The aizynthfinder configuration file\n",
        "\n",
        "The main python interface to AiZynthFinder is a class called `AiZynthFinder`. This interface is instantiated with a configuration, either from disc in the form of a yaml-file or from a dictionary.\n",
        "\n",
        "The configuration is central to the execution and holds information about:\n",
        "- What models to use\n",
        "- What stock to use\n",
        "- How to configure the search algorithm\n",
        "- What score to compute for the routes\n",
        "\n",
        "In this tutorial, we will only look at the two first and the other will be covered in upcoming tutorials.\n",
        "\n",
        "The script that we used above to download the public models, also provided us with a config file that looks like this\n",
        "\n",
        "```\n",
        "expansion:\n",
        "  uspto:\n",
        "    - uspto_model.onnx\n",
        "    - uspto_templates.csv.gz\n",
        "  ringbreaker:\n",
        "    - uspto_ringbreaker_model.onnx\n",
        "    - uspto_ringbreaker_templates.csv.gz\n",
        "filter:\n",
        "  uspto: uspto_filter_model.onnx\n",
        "stock:\n",
        "  zinc: zinc_stock.hdf5\n",
        "```\n",
        "\n",
        "The `expansion`-section specify the expansion model to load into memory. This does however not mean that they will be used in the search.\n",
        "\n",
        "Here we load two models, one general and one specific for breaking rings. The `uspto` and `ringbreaker` are labels for the models that we can use to reference the models in the setup of the search.\n",
        "\n",
        "The two files specified for each model is 1) a ONNX model file containing the weights of the neural network, and 2) a CSV file with metadata on the templates.\n",
        "\n",
        "The `filter`-section specifies similarly the filter model. Here, only one file needs to be specified - the ONNX model weights.\n",
        "\n",
        "Finally, the `stock`-section specifies the stock to load. Here we load one that we will refer to as `zinc` and the compounds in this stock will be loaded from `zinc_stock.hdf5`.\n"
      ]
    },
    {
      "cell_type": "markdown",
      "metadata": {
        "id": "twFTFrLFJZQT"
      },
      "source": [
        "### Initializing AiZynthFinder interface\n",
        "\n",
        "Now we can start to setup the retrosynthesis search using the `AiZynthFinder` interface. We will also initialize the logging level so that we get some useful information printed to the screen."
      ]
    },
    {
      "cell_type": "code",
      "execution_count": null,
      "metadata": {
        "id": "h9fFdHKIsoCA"
      },
      "outputs": [],
      "source": [
        "import logging\n",
        "from aizynthfinder.utils.logging import setup_logger\n",
        "setup_logger(logging.INFO)\n",
        "\n",
        "from aizynthfinder.aizynthfinder import AiZynthFinder"
      ]
    },
    {
      "cell_type": "code",
      "execution_count": null,
      "metadata": {
        "colab": {
          "base_uri": "https://localhost:8080/"
        },
        "id": "wHCx5Ylcrvwi",
        "outputId": "50956318-63bf-49f4-eb31-ce359067e5bd"
      },
      "outputs": [],
      "source": [
        "finder = AiZynthFinder(\"data/config.yml\")"
      ]
    },
    {
      "cell_type": "markdown",
      "metadata": {
        "id": "STFgCAbQJ5cw"
      },
      "source": [
        "When instantiating the `AiZynthFinder` class with our config-file, we see that the two template-based models, the filter model, and stock file are loaded.\n",
        "\n",
        "Even though they are loaded into memory, they are not automatically used in the search. For this we need to select what stock and models we want to use.\n",
        "\n",
        "We will start with selection all stock (although we only loaded one) and the expansion policy with the tag `uspto`, i.e., the general expansion model."
      ]
    },
    {
      "cell_type": "code",
      "execution_count": null,
      "metadata": {
        "colab": {
          "base_uri": "https://localhost:8080/"
        },
        "id": "1ZimRagnr2iG",
        "outputId": "db6ea36f-b48b-4378-f684-3b548bd0c7e7"
      },
      "outputs": [],
      "source": [
        "finder.stock.select_all()\n",
        "finder.expansion_policy.select(\"uspto\")"
      ]
    },
    {
      "cell_type": "markdown",
      "metadata": {
        "id": "6rUHvg-hKbMY"
      },
      "source": [
        "### Starting a search\n",
        "\n",
        "There are two steps to a retrosynthesis search once you have setup the interface\n",
        "- Set the target SMILES\n",
        "- Initiate the search"
      ]
    },
    {
      "cell_type": "code",
      "execution_count": null,
      "metadata": {
        "colab": {
          "base_uri": "https://localhost:8080/",
          "height": 167
        },
        "id": "r3551jWIsEPw",
        "outputId": "4a47ceb4-dec0-4717-c001-2ba20a7a09da"
      },
      "outputs": [],
      "source": [
        "finder.target_smiles = \"Cc1cccc(C)c1N(CC(=O)Nc1ccc(-c2ncon2)cc1)C(=O)C1CCS(=O)(=O)CC1\"\n",
        "display(finder.target_mol.rd_mol)"
      ]
    },
    {
      "cell_type": "code",
      "execution_count": null,
      "metadata": {
        "colab": {
          "base_uri": "https://localhost:8080/"
        },
        "id": "16YQt5SnKt1v",
        "outputId": "857cd61a-4749-419c-84cb-4ddb8d1aff65"
      },
      "outputs": [],
      "source": [
        "finder.tree_search(show_progress=True)"
      ]
    },
    {
      "cell_type": "markdown",
      "metadata": {
        "id": "Pav4ZcN8K6pC"
      },
      "source": [
        "That was quick, right?\n",
        "\n",
        "\n",
        "### Analysis of the output\n",
        "\n",
        "Now we need to extract routes from the retrosynthesis search tree"
      ]
    },
    {
      "cell_type": "code",
      "execution_count": null,
      "metadata": {
        "colab": {
          "base_uri": "https://localhost:8080/"
        },
        "id": "UbIcEUA7sSFC",
        "outputId": "6846a701-f33b-4637-c2cd-048cd1dae0fb"
      },
      "outputs": [],
      "source": [
        "finder.build_routes()\n",
        "finder.analysis.tree_statistics()"
      ]
    },
    {
      "cell_type": "markdown",
      "metadata": {
        "id": "mCpFoCrdMf1_"
      },
      "source": [
        "The `tree_statistics` method return som general information about the search tree, and the top-ranked routes.\n",
        "\n",
        "We can for instance read that:\n",
        "- There are 618 nodes in the search tree\n",
        "- The depth of the search tree is 6\n",
        "- There are 174 routes in the search tree, whereof 37 are solved (starting material is in stock)\n",
        "- The top-ranked route is a 2-step route with 3 starting material\n",
        "\n",
        "We only extract the top-ranked routes by default."
      ]
    },
    {
      "cell_type": "code",
      "execution_count": null,
      "metadata": {
        "colab": {
          "base_uri": "https://localhost:8080/"
        },
        "id": "SJgJLnWHPAA1",
        "outputId": "b05ae733-5ce9-491f-dd63-b61f48d08750"
      },
      "outputs": [],
      "source": [
        "len(finder.routes)"
      ]
    },
    {
      "cell_type": "markdown",
      "metadata": {
        "id": "FglAk9CQPB9-"
      },
      "source": [
        "We can visualize the top-ranked route using this"
      ]
    },
    {
      "cell_type": "code",
      "execution_count": null,
      "metadata": {
        "colab": {
          "base_uri": "https://localhost:8080/",
          "height": 492
        },
        "id": "-mniLc6OsWjx",
        "outputId": "785050bf-8997-49f5-9b3e-02534a29c7c5"
      },
      "outputs": [],
      "source": [
        "finder.routes.reaction_trees[0].to_image()"
      ]
    },
    {
      "cell_type": "markdown",
      "metadata": {
        "id": "2H-sWEwaOQcj"
      },
      "source": [
        "We can iterate over all the starting material and display them together with their SMILES string"
      ]
    },
    {
      "cell_type": "code",
      "execution_count": null,
      "metadata": {
        "colab": {
          "base_uri": "https://localhost:8080/",
          "height": 519
        },
        "id": "k-tPWUGKNGQq",
        "outputId": "be411dd6-12c6-4024-f561-257e21ca43b5"
      },
      "outputs": [],
      "source": [
        "for mol in finder.routes.reaction_trees[0].leafs():\n",
        "  print(mol.smiles)\n",
        "  display(mol.rd_mol)"
      ]
    },
    {
      "cell_type": "markdown",
      "metadata": {
        "id": "mU8nXMN6Oijj"
      },
      "source": [
        "We can compute some scores of the extract routes. You will learn more about how this is done in a forthcoming tutorial.\n",
        "\n",
        "We will import `pandas` so that we can get a nice-looking table"
      ]
    },
    {
      "cell_type": "code",
      "execution_count": null,
      "metadata": {
        "colab": {
          "base_uri": "https://localhost:8080/",
          "height": 332
        },
        "id": "4s7C9j6bN0kH",
        "outputId": "c9d56ad5-3f9a-4d07-844d-6367ce7e883f"
      },
      "outputs": [],
      "source": [
        "import pandas as pd\n",
        "finder.routes.compute_scores(*finder.scorers.objects())\n",
        "pd.DataFrame(\n",
        "    finder.routes.all_scores\n",
        ")"
      ]
    },
    {
      "cell_type": "markdown",
      "metadata": {
        "id": "MlS-PRlsOu0f"
      },
      "source": [
        "That is all for now!\n",
        "\n",
        "Let's continue with the next tutorial where you will learn how to do more advance route analysis."
      ]
    }
  ],
  "metadata": {
    "colab": {
      "provenance": []
    },
    "kernelspec": {
      "display_name": "Python 3",
      "name": "python3"
    },
    "language_info": {
      "name": "python"
    }
  },
  "nbformat": 4,
  "nbformat_minor": 0
}
