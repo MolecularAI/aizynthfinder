{
  "cells": [
    {
      "cell_type": "markdown",
      "metadata": {
        "id": "DqELadNv79Vb"
      },
      "source": [
        "# Tutorial C - search parameters\n",
        "\n",
        "In this tutorial you will learn about how to control and modify the retrosynthesis search algorithm\n",
        "\n",
        "After the completion of this tutorial, you will know:\n",
        "* How to modify the stock\n",
        "* How to add custom stock rules\n",
        "* How to use common search parameters\n",
        "* How to select and use different search algorithms\n",
        "\n",
        "We will start with installing packages from pypi"
      ]
    },
    {
      "cell_type": "code",
      "execution_count": null,
      "metadata": {
        "colab": {
          "base_uri": "https://localhost:8080/",
          "height": 1000
        },
        "id": "8EB7onol770a",
        "outputId": "651517a8-3826-4374-ada0-1f89f882b56a"
      },
      "outputs": [],
      "source": [
        "!pip install --quiet aizynthfinder\n",
        "!pip install --quiet reaction-utils[models]\n",
        "!pip install --ignore-installed Pillow==9.0.0"
      ]
    },
    {
      "cell_type": "markdown",
      "metadata": {
        "id": "LzSuzSbv8tL_"
      },
      "source": [
        "### Setup\n",
        "\n",
        "As with the basic tutorial we will work with public data and models"
      ]
    },
    {
      "cell_type": "code",
      "execution_count": null,
      "metadata": {
        "colab": {
          "base_uri": "https://localhost:8080/"
        },
        "id": "WycuYZCx8sIa",
        "outputId": "4042b989-4fb9-4ed1-83b5-3086a3de7c4a"
      },
      "outputs": [],
      "source": [
        "!mkdir --parents data && download_public_data data"
      ]
    },
    {
      "cell_type": "markdown",
      "metadata": {
        "id": "mPHeOh0v8yGc"
      },
      "source": [
        "And we will setup the aizynthfinder interface similarly to the basic tutorial as well...\n",
        "\n",
        "\n"
      ]
    },
    {
      "cell_type": "code",
      "execution_count": null,
      "metadata": {
        "id": "-BrbcnBJ8yqq"
      },
      "outputs": [],
      "source": [
        "import logging\n",
        "from aizynthfinder.utils.logging import setup_logger\n",
        "setup_logger(logging.INFO)\n",
        "\n",
        "from aizynthfinder.aizynthfinder import AiZynthFinder\n",
        "from rdkit import Chem\n",
        "from rdkit.Chem import Descriptors"
      ]
    },
    {
      "cell_type": "code",
      "execution_count": null,
      "metadata": {
        "colab": {
          "base_uri": "https://localhost:8080/"
        },
        "id": "Y6o24r_k80oD",
        "outputId": "af950503-b94e-4f96-ee32-7130679040c9"
      },
      "outputs": [],
      "source": [
        "finder = AiZynthFinder(\"data/config.yml\")\n",
        "finder.stock.select_all()\n",
        "finder.expansion_policy.select(\"uspto\")"
      ]
    },
    {
      "cell_type": "markdown",
      "metadata": {
        "id": "vDqPOq7M8-2b"
      },
      "source": [
        "... and setup it to do retrosynthesis on amenamevir"
      ]
    },
    {
      "cell_type": "code",
      "execution_count": null,
      "metadata": {
        "colab": {
          "base_uri": "https://localhost:8080/",
          "height": 185
        },
        "id": "nVdrJ0SO89zC",
        "outputId": "59c86a6b-9801-42f8-84f0-3ccadc8523b3"
      },
      "outputs": [],
      "source": [
        "finder.target_smiles = \"Cc1cccc(C)c1N(CC(=O)Nc1ccc(-c2ncon2)cc1)C(=O)C1CCS(=O)(=O)CC1\"\n",
        "display(finder.target_mol.rd_mol)\n",
        "finder.tree_search(show_progress=True)"
      ]
    },
    {
      "cell_type": "code",
      "execution_count": null,
      "metadata": {
        "colab": {
          "base_uri": "https://localhost:8080/",
          "height": 492
        },
        "id": "bzdOOCldBxMZ",
        "outputId": "883ec5fb-7c25-4255-c942-d31cdf064c3a"
      },
      "outputs": [],
      "source": [
        "finder.build_routes()\n",
        "finder.routes.reaction_trees[0].to_image()"
      ]
    },
    {
      "cell_type": "code",
      "execution_count": null,
      "metadata": {
        "colab": {
          "base_uri": "https://localhost:8080/"
        },
        "id": "_TP4MFobZzr8",
        "outputId": "15aef6cf-3e6c-42af-fed4-4db7499288fc"
      },
      "outputs": [],
      "source": [
        "for leaf in finder.routes.reaction_trees[0].leafs():\n",
        "    print(leaf.smiles, Descriptors.ExactMolWt(leaf.rd_mol))"
      ]
    },
    {
      "cell_type": "markdown",
      "metadata": {
        "id": "gnm_eWbJZe7H"
      },
      "source": [
        "### Modify the stock\n",
        "\n",
        "We see that some of the starting material contains several rings, and are rather heavy. Perhaps you have use-case where you want to constrain the starting material much more without modifying your stock file.\n",
        "\n",
        "We will look at a few different ways to do this.\n",
        "\n",
        "First, you can use built-in functionality to constrain the stock using\n",
        "- Amount in the sock\n",
        "- Price from stock\n",
        "- Count of elements\n",
        "\n",
        "For these amount and price constraints, you would need a stock that contain this information and because we use a version of ZINC without this information - we will look at the last option."
      ]
    },
    {
      "cell_type": "code",
      "execution_count": null,
      "metadata": {
        "colab": {
          "base_uri": "https://localhost:8080/"
        },
        "id": "TPT-Y2S9HRqO",
        "outputId": "200c778a-c9a5-4757-e904-7b75680f7f49"
      },
      "outputs": [],
      "source": [
        "finder.stock.set_stop_criteria({\"counts\": {\"C\": 8}})"
      ]
    },
    {
      "cell_type": "markdown",
      "metadata": {
        "id": "HB3_hqDLcDsc"
      },
      "source": [
        "Here we constrain the stock to anything with eight carbon atoms or less."
      ]
    },
    {
      "cell_type": "code",
      "execution_count": null,
      "metadata": {
        "colab": {
          "base_uri": "https://localhost:8080/",
          "height": 598
        },
        "id": "dRqvyVjvcBz4",
        "outputId": "1f249286-4fe8-4174-9252-671d6057ab80"
      },
      "outputs": [],
      "source": [
        "finder.prepare_tree() # This is important to reset the previous search!\n",
        "finder.tree_search(show_progress=True)\n",
        "finder.build_routes()\n",
        "finder.routes.reaction_trees[0].to_image()"
      ]
    },
    {
      "cell_type": "markdown",
      "metadata": {
        "id": "B1bNb56Mc_dV"
      },
      "source": [
        "This is a bit cluncky and imprecise, so instead we will build our own stock class that implements a constraint based on mass.\n",
        "\n",
        "We need to subclass `StockQueryMixin` that provide some default functionality for a stock. Some of these functionalities can be overriden, but the only one that needs to be implemented is the `__contains__` method.\n",
        "\n",
        "This method takes a single argument, a `Molecule` object internal to `aizynthfinder`, and should return True if the molecule is in stock or False otherwise.\n",
        "\n",
        "You can use the `.rd_mol` or `.smiles` properties of the molecule object to access the RDKit molecule object or the SMILES string."
      ]
    },
    {
      "cell_type": "code",
      "execution_count": null,
      "metadata": {
        "id": "LYdCUj4cc-20"
      },
      "outputs": [],
      "source": [
        "from aizynthfinder.context.stock.queries import StockQueryMixin\n",
        "\n",
        "class MassCriteriaStock(StockQueryMixin):\n",
        "\n",
        "    def __init__(self, mass_limit=180):\n",
        "        self._mass_limit = mass_limit\n",
        "\n",
        "    def __contains__(self, mol):\n",
        "          return Descriptors.ExactMolWt(mol.rd_mol) < self._mass_limit"
      ]
    },
    {
      "cell_type": "markdown",
      "metadata": {
        "id": "cOfBgHK7eTm4"
      },
      "source": [
        "This stock will only return True for molecules with a mass less than a given limit.\n",
        "\n",
        "Let's load it into our `finder` object and use it in the search."
      ]
    },
    {
      "cell_type": "code",
      "execution_count": null,
      "metadata": {
        "colab": {
          "base_uri": "https://localhost:8080/"
        },
        "id": "vgJ_dEJBed-g",
        "outputId": "0b607756-0d53-41d8-b144-2403dd84eb43"
      },
      "outputs": [],
      "source": [
        "mass_stock = MassCriteriaStock()\n",
        "finder.stock.load(mass_stock, \"mass\")\n",
        "finder.stock.select(\"mass\")"
      ]
    },
    {
      "cell_type": "code",
      "execution_count": null,
      "metadata": {
        "colab": {
          "base_uri": "https://localhost:8080/",
          "height": 655
        },
        "id": "xiRqd_wiepCz",
        "outputId": "077134e1-f694-4582-8fb3-8b6a0b20671c"
      },
      "outputs": [],
      "source": [
        "finder.prepare_tree() # This is important to reset the previous search!\n",
        "finder.tree_search(show_progress=True)\n",
        "finder.build_routes()\n",
        "finder.routes.reaction_trees[0].to_image()"
      ]
    },
    {
      "cell_type": "markdown",
      "metadata": {
        "id": "6TlG1iKefinz"
      },
      "source": [
        "We can also combine our custom stock with the ZINC stock"
      ]
    },
    {
      "cell_type": "code",
      "execution_count": null,
      "metadata": {
        "colab": {
          "base_uri": "https://localhost:8080/"
        },
        "id": "sFvLRhptfiDQ",
        "outputId": "e3e2e452-4c04-45be-d036-33937d09e714"
      },
      "outputs": [],
      "source": [
        "class MassCriteriaStock2(StockQueryMixin):\n",
        "\n",
        "    def __init__(self, molecule_stock, mass_limit=180):\n",
        "        self._molecule_stock = molecule_stock\n",
        "        self._mass_limit = mass_limit\n",
        "\n",
        "    def __contains__(self, mol):\n",
        "        if Descriptors.ExactMolWt(mol.rd_mol) >= self._mass_limit:\n",
        "            return False\n",
        "        return mol in self._molecule_stock\n",
        "\n",
        "mass_stock2 = MassCriteriaStock2(finder.stock[\"zinc\"])\n",
        "finder.stock.load(mass_stock2, \"mass2\")\n",
        "finder.stock.select(\"mass2\")"
      ]
    },
    {
      "cell_type": "code",
      "execution_count": null,
      "metadata": {
        "colab": {
          "base_uri": "https://localhost:8080/",
          "height": 661
        },
        "id": "BogqAb--gRTa",
        "outputId": "4991ee1f-bb8a-467b-e081-b35ebaf6ea8e"
      },
      "outputs": [],
      "source": [
        "finder.prepare_tree() # This is important to reset the previous search!\n",
        "finder.tree_search(show_progress=True)\n",
        "finder.build_routes()\n",
        "finder.routes.reaction_trees[0].to_image()"
      ]
    },
    {
      "cell_type": "markdown",
      "metadata": {
        "id": "ItggMtV3gtfy"
      },
      "source": [
        "\n",
        "**Exercises**\n",
        "\n",
        "- Change the mass limit and explore its effect\n",
        "- Implement a stock class that constrain the number of rings in the starting material"
      ]
    },
    {
      "cell_type": "markdown",
      "metadata": {
        "id": "jgGOEGq6g7H_"
      },
      "source": [
        "### Modify search parameters\n",
        "\n",
        "Now we will explore some common search parameters\n",
        "- Number of iterations\n",
        "- Search depth\n",
        "- Search width\n",
        "\n",
        "and see how they affect the search\n",
        "\n",
        "For this we will use the regular ZINC stock and a new molecule that `aizynthfinder` have more problem to break down"
      ]
    },
    {
      "cell_type": "code",
      "execution_count": null,
      "metadata": {
        "colab": {
          "base_uri": "https://localhost:8080/"
        },
        "id": "yuOnMeL1xdPa",
        "outputId": "d537af21-9cde-4339-c0ee-6272dbf610b6"
      },
      "outputs": [],
      "source": [
        "finder.stock.select(\"zinc\")"
      ]
    },
    {
      "cell_type": "code",
      "execution_count": null,
      "metadata": {
        "colab": {
          "base_uri": "https://localhost:8080/",
          "height": 167
        },
        "id": "g62Wnsophpgo",
        "outputId": "1efe17d9-168f-47d9-c6e8-f431e2a3958a"
      },
      "outputs": [],
      "source": [
        "finder.target_smiles = \"Cc1ccc(F)c(C(=O)NC(CNC(=O)Cn2c(=O)[nH]c3nc(F)c(F)cc32)C)c1\"\n",
        "display(finder.target_mol.rd_mol)"
      ]
    },
    {
      "cell_type": "markdown",
      "metadata": {
        "id": "rpptPGvOx5Ut"
      },
      "source": [
        "With default search setting we do not find any solved routes.."
      ]
    },
    {
      "cell_type": "code",
      "execution_count": null,
      "metadata": {
        "colab": {
          "base_uri": "https://localhost:8080/"
        },
        "id": "a9i59hsPh3-a",
        "outputId": "f73f3cea-2dde-4599-89ce-362888b2459b"
      },
      "outputs": [],
      "source": [
        "# These are default parameters if you want to go back to earlier state\n",
        "# finder.config.search.time_limit = 120\n",
        "# finder.config.search.iteration_limit = 100\n",
        "# finder.config.search.max_transforms = 6\n",
        "finder.prepare_tree()\n",
        "finder.tree_search(show_progress=True)\n",
        "finder.build_routes()\n",
        "finder.extract_statistics()"
      ]
    },
    {
      "cell_type": "markdown",
      "metadata": {
        "id": "BnVXxZvtyAAd"
      },
      "source": [
        "We will start with increasing the number of iterations in the search. For this it is also adviceable to \"disable\" the time limit by setting it to something big"
      ]
    },
    {
      "cell_type": "code",
      "execution_count": null,
      "metadata": {
        "colab": {
          "base_uri": "https://localhost:8080/"
        },
        "id": "zsV_hYEsinNZ",
        "outputId": "78367f7d-a43e-44ee-fada-70134ac42be4"
      },
      "outputs": [],
      "source": [
        "finder.config.search.time_limit = 3600\n",
        "finder.config.search.iteration_limit = 200\n",
        "# finder.config.search.max_transforms = 6\n",
        "finder.prepare_tree()\n",
        "finder.tree_search(show_progress=True)\n",
        "finder.build_routes()\n",
        "finder.extract_statistics()"
      ]
    },
    {
      "cell_type": "markdown",
      "metadata": {
        "id": "cSc-Ie4Dy0Cn"
      },
      "source": [
        "Try to increase the iteration limit it further..."
      ]
    },
    {
      "cell_type": "code",
      "execution_count": null,
      "metadata": {
        "colab": {
          "base_uri": "https://localhost:8080/"
        },
        "id": "SKXw10vCy8Gl",
        "outputId": "28054e89-24b8-48e8-e010-d8729bfb19b3"
      },
      "outputs": [],
      "source": [
        "for limit in [300, 400, 500, 1000]:\n",
        "  finder.config.search.iteration_limit = limit\n",
        "  finder.prepare_tree()\n",
        "  finder.tree_search(show_progress=True)\n",
        "  finder.build_routes()\n",
        "  print(\"Number of solved routes: \", finder.extract_statistics()[\"number_of_solved_routes\"])"
      ]
    },
    {
      "cell_type": "markdown",
      "metadata": {
        "id": "DuQ2_vlZzgC6"
      },
      "source": [
        "Display the first route and try to understand why `aizynthfinder`cannot break down the molecule"
      ]
    },
    {
      "cell_type": "code",
      "execution_count": null,
      "metadata": {
        "colab": {
          "base_uri": "https://localhost:8080/",
          "height": 539
        },
        "id": "jaLrRputiv7j",
        "outputId": "5211d4af-79f6-4434-9210-ac2644ba2781"
      },
      "outputs": [],
      "source": [
        "finder.routes.images[0]"
      ]
    },
    {
      "cell_type": "markdown",
      "metadata": {
        "id": "852yUpzYzp4r"
      },
      "source": [
        "Next, we will try to increase the search depth"
      ]
    },
    {
      "cell_type": "code",
      "execution_count": null,
      "metadata": {
        "id": "uo-u4Aqezs-t"
      },
      "outputs": [],
      "source": [
        "finder.config.search.time_limit = 3600\n",
        "finder.config.search.iteration_limit = 300\n",
        "finder.config.search.max_transforms = 12\n",
        "finder.prepare_tree()\n",
        "finder.tree_search(show_progress=True)\n",
        "finder.build_routes()\n",
        "finder.extract_statistics()"
      ]
    },
    {
      "cell_type": "markdown",
      "metadata": {
        "id": "KTe329QBz0Gc"
      },
      "source": [
        "Adjust the maximum search depth, iteration limit and display routes. Try to figure out why `aizynthfinder` cannot break down this compound to commerical starting material\n"
      ]
    },
    {
      "cell_type": "markdown",
      "metadata": {
        "id": "LcWf2SPy0Ej3"
      },
      "source": [
        "To change the search width is a bit more involved, because it depends on the expansion model we used. Here, we will adjust it for the template-based model that we are using, but be aware that other expansion models might work differently"
      ]
    },
    {
      "cell_type": "code",
      "execution_count": null,
      "metadata": {
        "colab": {
          "base_uri": "https://localhost:8080/"
        },
        "id": "KiTxYSZz0Q1w",
        "outputId": "e2d140b1-b72f-4290-879e-7a592def7dcb"
      },
      "outputs": [],
      "source": [
        "finder.expansion_policy[\"uspto\"].cutoff_number"
      ]
    },
    {
      "cell_type": "code",
      "execution_count": null,
      "metadata": {
        "colab": {
          "base_uri": "https://localhost:8080/"
        },
        "id": "bgLoCDL50p03",
        "outputId": "d1923790-ad32-493a-cabd-329ae7fd8cd9"
      },
      "outputs": [],
      "source": [
        "finder.expansion_policy[\"uspto\"].cutoff_number = 100\n",
        "finder.config.search.time_limit = 3600\n",
        "finder.config.search.iteration_limit = 300\n",
        "finder.config.search.max_transforms = 12\n",
        "finder.prepare_tree()\n",
        "finder.tree_search(show_progress=True)\n",
        "finder.build_routes()\n",
        "finder.extract_statistics()"
      ]
    },
    {
      "cell_type": "markdown",
      "metadata": {
        "id": "xKe4pPGv0wSw"
      },
      "source": [
        "### Search algorithm\n",
        "\n",
        "The default search algorithm in `aizynthfinder` is Monte Carlo Tree Search (MCTS), but there are other alternatives available.\n",
        "\n",
        "Here will explore two alternatives:\n",
        "- [Retro*](https://arxiv.org/abs/2006.15820)\n",
        "- [Multi-objective MCTS](https://www.sciencedirect.com/science/article/pii/S2667318525000066)\n",
        "\n",
        "We will start with Retro*, which requires a trained model that scores potential solutions that the search produces"
      ]
    },
    {
      "cell_type": "code",
      "execution_count": null,
      "metadata": {
        "colab": {
          "base_uri": "https://localhost:8080/"
        },
        "id": "bSG2BJox1VwS",
        "outputId": "c71ac499-8af5-47bd-fc12-ee5e330f59b0"
      },
      "outputs": [],
      "source": [
        "!wget https://github.com/MolecularAI/PaRoutes/raw/refs/heads/main/publication/retrostar_value_model.pickle -O retrostar_value_model.pickle"
      ]
    },
    {
      "cell_type": "markdown",
      "metadata": {
        "id": "drLCm7MF2ONA"
      },
      "source": [
        "Then we change the search algorithm in the configuration of our `finder` object"
      ]
    },
    {
      "cell_type": "code",
      "execution_count": null,
      "metadata": {
        "colab": {
          "base_uri": "https://localhost:8080/"
        },
        "id": "v1W1_22V2Sn4",
        "outputId": "ae2d7a73-33bd-41ba-8698-90db15cf1580"
      },
      "outputs": [],
      "source": [
        "finder.config.search.algorithm = \"aizynthfinder.search.retrostar.search_tree.SearchTree\"\n",
        "finder.config.search.algorithm_config = {\n",
        "    \"molecule_cost\": {\n",
        "        \"cost\": \"aizynthfinder.search.retrostar.cost.RetroStarCost\",\n",
        "        \"model_path\": \"retrostar_value_model.pickle\"\n",
        "    }\n",
        "}\n",
        "finder.prepare_tree()\n",
        "finder.tree"
      ]
    },
    {
      "cell_type": "markdown",
      "metadata": {
        "id": "Egew_avm4hVI"
      },
      "source": [
        "We will return to amenamevir and the default search parameters"
      ]
    },
    {
      "cell_type": "code",
      "execution_count": null,
      "metadata": {
        "colab": {
          "base_uri": "https://localhost:8080/"
        },
        "id": "EpSxAvvD26BD",
        "outputId": "9a677593-659e-493d-fe9e-39f9f6084f8f"
      },
      "outputs": [],
      "source": [
        "finder.target_smiles = \"Cc1cccc(C)c1N(CC(=O)Nc1ccc(-c2ncon2)cc1)C(=O)C1CCS(=O)(=O)CC1\"\n",
        "finder.config.search.iteration_limit = 100\n",
        "finder.config.search.max_transforms = 6\n",
        "finder.expansion_policy[\"uspto\"].cutoff_number = 50\n",
        "finder.tree_search(show_progress=True)"
      ]
    },
    {
      "cell_type": "code",
      "execution_count": null,
      "metadata": {
        "colab": {
          "base_uri": "https://localhost:8080/",
          "height": 481
        },
        "id": "4pbeHDjQ2c3U",
        "outputId": "84caef94-fdc5-4c4a-96be-1fd0667e8785"
      },
      "outputs": [],
      "source": [
        "finder.build_routes()\n",
        "finder.routes.images[0]"
      ]
    },
    {
      "cell_type": "markdown",
      "metadata": {
        "id": "KDLXYHIo40zT"
      },
      "source": [
        "**Exercise**\n",
        "\n",
        "Run a search with both MCTS and Retro* and compare the output of the `finder.extract_statistics()` method."
      ]
    },
    {
      "cell_type": "markdown",
      "metadata": {
        "id": "XLYfuIg24-aI"
      },
      "source": [
        "Next, we will setup a multi-objective MCTS search. We will setup a search with two objectives:\n",
        "\n",
        "- The fraction of starting material in stock\n",
        "- The average template occurrence as a simple proxy for route quality\n",
        "\n",
        "Take it as an exercise to try out other objectives. In principle any scores that we explored in the previous tutorial can be used as an objective"
      ]
    },
    {
      "cell_type": "code",
      "execution_count": null,
      "metadata": {
        "colab": {
          "base_uri": "https://localhost:8080/"
        },
        "id": "oq-EFoCy6S9S",
        "outputId": "aed05d8b-1a30-4aba-d215-30d37f7bdb78"
      },
      "outputs": [],
      "source": [
        "from aizynthfinder.context.scoring import FractionInStockScorer, AverageTemplateOccurrenceScorer\n",
        "scorer1 = FractionInStockScorer(finder.config)\n",
        "scorer2 = AverageTemplateOccurrenceScorer(\n",
        "    finder.config,\n",
        "    #scaler_params={\"name\": \"squash\", \"slope\": 0.001, \"xoffset\": 5000, \"yoffset\": 0}\n",
        ")\n",
        "finder.scorers.load(scorer1)\n",
        "finder.scorers.load(scorer2)"
      ]
    },
    {
      "cell_type": "markdown",
      "metadata": {
        "id": "Tu6QSYBD_2Gn"
      },
      "source": [
        "The `AverageTemplateOccurrenceScorer` scorer is an unbound scorer, and on a completely different scale compared to the `FractionInStockScorer` scorer. But that should no matter for the MO-MCTS algorithm.\n",
        "\n",
        "However, you can try to uncomment the row above that suggest a sigmoid-like function to scale the scorer between 0 and 1.\n",
        "\n",
        "Next, we will set up the algorithm. The search algorithm is simply selected by choosen \"mcts\", because `aizynthfinder` will figure out from the other settings the we want a multi-objectiv search.\n",
        "\n",
        "In principle we only need to set `search_rewards` to a list of names of scorers. But since we ran Retro* above, we need to update the default settings of the other parameters for MCTS as well."
      ]
    },
    {
      "cell_type": "code",
      "execution_count": null,
      "metadata": {
        "colab": {
          "base_uri": "https://localhost:8080/"
        },
        "id": "TmJzk5lw8lWM",
        "outputId": "efd4cd6c-21b4-4995-f7a9-0e046f1ffdf3"
      },
      "outputs": [],
      "source": [
        "finder.config.search.algorithm = \"mcts\"\n",
        "finder.config.search.algorithm_config = {\n",
        "    \"search_rewards\": [\"fraction in stock\", \"average template occurrence\"],\n",
        "    \"C\": 1.4,\n",
        "    \"default_prior\": 0.5,\n",
        "    \"use_prior\": True,\n",
        "    \"prune_cycles_in_search\": True,\n",
        "    \"immediate_instantiation\": (),\n",
        "    \"mcts_grouping\": None,\n",
        "    \"search_rewards_weights\": [],\n",
        "}\n",
        "finder.prepare_tree()\n",
        "finder.tree"
      ]
    },
    {
      "cell_type": "markdown",
      "metadata": {
        "id": "109Q2emSAfRy"
      },
      "source": [
        "We will run retrosynthesis for amenamevir with default settings, but feel free to try other target compounds and/or settings"
      ]
    },
    {
      "cell_type": "code",
      "execution_count": null,
      "metadata": {
        "colab": {
          "base_uri": "https://localhost:8080/"
        },
        "id": "nRvYhW5_9rZy",
        "outputId": "3fa85930-4fcd-4fe8-d4e3-336207fe6c58"
      },
      "outputs": [],
      "source": [
        "finder.target_smiles = \"Cc1cccc(C)c1N(CC(=O)Nc1ccc(-c2ncon2)cc1)C(=O)C1CCS(=O)(=O)CC1\"\n",
        "finder.config.search.iteration_limit = 100\n",
        "finder.config.search.max_transforms = 6\n",
        "finder.expansion_policy[\"uspto\"].cutoff_number = 50\n",
        "finder.tree_search(show_progress=True)"
      ]
    },
    {
      "cell_type": "markdown",
      "metadata": {
        "id": "5iLrd36O8YWZ"
      },
      "source": [
        "When extracting routes from a multi-objective search it is also advantageous to extract routes on the Pareto front(s) of the objectives used in the search.\n",
        "\n",
        "This can be accomplished by providing a list of scorer names to the `scorer` argument of the `build_routes` method."
      ]
    },
    {
      "cell_type": "code",
      "execution_count": null,
      "metadata": {
        "colab": {
          "base_uri": "https://localhost:8080/"
        },
        "id": "1njsgVzp8TQS",
        "outputId": "8d43e534-4c2e-4f00-9780-db232e474c95"
      },
      "outputs": [],
      "source": [
        "finder.build_routes(\n",
        "    scorer=[\"fraction in stock\", \"average template occurrence\"]\n",
        ")\n",
        "finder.extract_statistics()"
      ]
    },
    {
      "cell_type": "markdown",
      "metadata": {
        "id": "ps6ZnoSuA-iW"
      },
      "source": [
        "If you check out the scores of the routes, you see that there are two scores computed. All of the extract routes are solved, but the \"average template occurence\" show some variance."
      ]
    },
    {
      "cell_type": "code",
      "execution_count": null,
      "metadata": {
        "colab": {
          "base_uri": "https://localhost:8080/",
          "height": 206
        },
        "id": "iNmgh43i_c13",
        "outputId": "7ab440b8-4f28-4cd5-9e93-3c2367aab54d"
      },
      "outputs": [],
      "source": [
        "import pandas as pd\n",
        "pd.DataFrame(finder.routes.all_scores)"
      ]
    },
    {
      "cell_type": "markdown",
      "metadata": {
        "id": "0AfNxxRkBLPI"
      },
      "source": [
        "We can also plot these routes on a two-dimensional plot for the two objectives."
      ]
    },
    {
      "cell_type": "code",
      "execution_count": null,
      "metadata": {
        "colab": {
          "base_uri": "https://localhost:8080/",
          "height": 523
        },
        "id": "bATAnG4d-dL6",
        "outputId": "7a5a632b-4640-412e-cf7c-1d06efb43554"
      },
      "outputs": [],
      "source": [
        "from aizynthfinder.interfaces.gui.utils import pareto_fronts_plot\n",
        "pareto_fronts_plot(finder.routes)"
      ]
    },
    {
      "cell_type": "markdown",
      "metadata": {
        "id": "2nzQGx8A_gS6"
      },
      "source": [
        "**Exercise**\n",
        "\n",
        "Run MO-MCTS with other objects and/or target compounds and plot the Pareto fronts of the found solutions.\n",
        "\n",
        "That is all for this tutorial!"
      ]
    }
  ],
  "metadata": {
    "colab": {
      "provenance": []
    },
    "kernelspec": {
      "display_name": "Python 3",
      "name": "python3"
    },
    "language_info": {
      "name": "python"
    }
  },
  "nbformat": 4,
  "nbformat_minor": 0
}
