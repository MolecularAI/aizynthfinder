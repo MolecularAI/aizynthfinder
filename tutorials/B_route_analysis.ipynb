{
  "cells": [
    {
      "cell_type": "markdown",
      "metadata": {
        "id": "k5Imv4YnxCNi"
      },
      "source": [
        "# Tutorial B - route analysis\n",
        "\n",
        "In this tutorial you will learning the advances analysis techniques for route predictions\n",
        "\n",
        "After the completion of this tutorial, you will know:\n",
        "* How to extract routes from retrosynthesis search trees\n",
        "* How to score routes with AiZynthFinder\n",
        "* How to score route with rxnutils\n",
        "* How to calculate route similarities\n",
        "* How to cluster routes\n",
        "\n",
        "\n",
        "We will start with installing packages from pypi"
      ]
    },
    {
      "cell_type": "code",
      "execution_count": null,
      "metadata": {
        "colab": {
          "base_uri": "https://localhost:8080/",
          "height": 474
        },
        "collapsed": true,
        "id": "KjGZ4225wyiH",
        "outputId": "00640252-f625-46b1-f54e-7a65ddf1f2ab"
      },
      "outputs": [],
      "source": [
        "!pip install --quiet aizynthfinder\n",
        "!pip install --quiet reaction-utils[models]\n",
        "!pip install --ignore-installed Pillow==9.0.0"
      ]
    },
    {
      "cell_type": "markdown",
      "metadata": {
        "id": "1ICfB1uEx1EI"
      },
      "source": [
        "### Setup\n",
        "\n",
        "As with the basic tutorial we will work with public data and models"
      ]
    },
    {
      "cell_type": "code",
      "execution_count": null,
      "metadata": {
        "colab": {
          "base_uri": "https://localhost:8080/"
        },
        "id": "d5L50Gptxz2q",
        "outputId": "74507335-974b-4733-e415-aeeb8ee90d28"
      },
      "outputs": [],
      "source": [
        "!mkdir --parents data && download_public_data data"
      ]
    },
    {
      "cell_type": "markdown",
      "metadata": {
        "id": "-zVK9IokxwS7"
      },
      "source": [
        "And we will setup the `aizynthfinder` interface similarly to the basic tutorial as well...\n"
      ]
    },
    {
      "cell_type": "code",
      "execution_count": null,
      "metadata": {
        "id": "Czg-SycnyTrU"
      },
      "outputs": [],
      "source": [
        "import logging\n",
        "from aizynthfinder.utils.logging import setup_logger\n",
        "setup_logger(logging.INFO)\n",
        "\n",
        "from aizynthfinder.aizynthfinder import AiZynthFinder"
      ]
    },
    {
      "cell_type": "code",
      "execution_count": null,
      "metadata": {
        "colab": {
          "base_uri": "https://localhost:8080/"
        },
        "id": "jvXblyBpyU3y",
        "outputId": "8d2efacd-fd82-4dac-a183-faee4d66da77"
      },
      "outputs": [],
      "source": [
        "finder = AiZynthFinder(\"data/config.yml\")\n",
        "finder.stock.select_all()\n",
        "finder.expansion_policy.select(\"uspto\")"
      ]
    },
    {
      "cell_type": "markdown",
      "metadata": {
        "id": "2YduQUNgyfve"
      },
      "source": [
        "... and run retrosynthesis analysis on amenamevir"
      ]
    },
    {
      "cell_type": "code",
      "execution_count": null,
      "metadata": {
        "colab": {
          "base_uri": "https://localhost:8080/",
          "height": 185
        },
        "id": "J8G7l8zqyXe4",
        "outputId": "da2f7e0d-5945-4430-833f-ddf1f241fd9e"
      },
      "outputs": [],
      "source": [
        "finder.target_smiles = \"Cc1cccc(C)c1N(CC(=O)Nc1ccc(-c2ncon2)cc1)C(=O)C1CCS(=O)(=O)CC1\"\n",
        "display(finder.target_mol.rd_mol)\n",
        "finder.tree_search(show_progress=True)"
      ]
    },
    {
      "cell_type": "markdown",
      "metadata": {
        "id": "25FpUcV_WUQ1"
      },
      "source": [
        "### Extracting routes\n",
        "\n",
        "In the previous tutorial we used the `build_routes` method to extract routes from the search. By default this only returns a limited set of routes based on the score used to guide the search."
      ]
    },
    {
      "cell_type": "code",
      "execution_count": null,
      "metadata": {
        "colab": {
          "base_uri": "https://localhost:8080/"
        },
        "id": "KV6BDun5WqFE",
        "outputId": "de0d33d5-f4a1-4a61-9156-77a37aec73e7"
      },
      "outputs": [],
      "source": [
        "finder.build_routes()\n",
        "len(finder.routes)"
      ]
    },
    {
      "cell_type": "markdown",
      "metadata": {
        "id": "W1dZimGqWnFY"
      },
      "source": [
        "We can control how many routes that we want to generate. The algorithm is works on a minimum and maximum number of routes, but more than the minimum can be returned if multiple routes have the same score but never more than the maximum"
      ]
    },
    {
      "cell_type": "code",
      "execution_count": null,
      "metadata": {
        "colab": {
          "base_uri": "https://localhost:8080/"
        },
        "id": "kD3EOyCo0yx4",
        "outputId": "e4c1712a-146c-46cf-d200-95c8ed83c6f5"
      },
      "outputs": [],
      "source": [
        "from aizynthfinder.analysis.utils import RouteSelectionArguments\n",
        "sel_args = RouteSelectionArguments(nmin=10, nmax=15)\n",
        "finder.build_routes(sel_args)\n",
        "len(finder.routes)"
      ]
    },
    {
      "cell_type": "code",
      "execution_count": null,
      "metadata": {
        "colab": {
          "base_uri": "https://localhost:8080/"
        },
        "id": "2ar6PfyrXRhl",
        "outputId": "bdd9b876-0126-4a81-a28c-02263c3f513f"
      },
      "outputs": [],
      "source": [
        "sel_args = RouteSelectionArguments(nmin=10)\n",
        "finder.build_routes(sel_args)\n",
        "len(finder.routes)"
      ]
    },
    {
      "cell_type": "markdown",
      "metadata": {
        "id": "XcgtdblIX_xt"
      },
      "source": [
        "We can also make it return all solved routes, i.e. routes leading to starting material in stock."
      ]
    },
    {
      "cell_type": "code",
      "execution_count": null,
      "metadata": {
        "colab": {
          "base_uri": "https://localhost:8080/"
        },
        "id": "1r1E2DRE1Czr",
        "outputId": "51226874-e264-441f-c2cc-4473248cc85b"
      },
      "outputs": [],
      "source": [
        "sel_args = RouteSelectionArguments(return_all=True)\n",
        "finder.build_routes(sel_args)\n",
        "len(finder.routes)"
      ]
    },
    {
      "cell_type": "markdown",
      "metadata": {
        "id": "-ORtpgG-YNHU"
      },
      "source": [
        "### Scoring\n",
        "\n",
        "Now we will explore some ways to score the generated routes. We have a preview of this in the previous tutorial and now we will dig into this some more.\n",
        "\n",
        "There are a number of route scores available in the `aizynthfinder` package but we will also use some more ellaborate route scores available in the `rxnutils` package.\n",
        "\n",
        "In `aizynthfinder`, scores available are typically accessible through `finder.scorers`, which is a collection of scorer objects. These can be loaded from the configuration file or created by users.\n",
        "\n",
        "There are a number of scores that are loaded automatically, because they are simple, fast, and does not require any external input."
      ]
    },
    {
      "cell_type": "code",
      "execution_count": null,
      "metadata": {
        "colab": {
          "base_uri": "https://localhost:8080/"
        },
        "id": "rd4vmS6BZRzV",
        "outputId": "48dc6ce1-d53d-4d47-ae07-9b15b15af568"
      },
      "outputs": [],
      "source": [
        "finder.scorers.names()"
      ]
    },
    {
      "cell_type": "markdown",
      "metadata": {
        "id": "FRNtzbqxZOqC"
      },
      "source": [
        "The scorers are:\n",
        "\n",
        "- \"state score\", the score used to guide the tree search (a combination of the number of steps in the route and the fraction of starting material in stock)\n",
        "- \"number of reactions\", the total number of steps in the route\n",
        "- \"number of pre-cursors\", the number of starting materials\n",
        "- \"number of pre-cursors in stock\", the number of starting materials in stock\n",
        "- \"average template occurrence\", the average database occurence of the templates used in the route\n",
        "\n",
        "We can then use them to score the routes..."
      ]
    },
    {
      "cell_type": "code",
      "execution_count": null,
      "metadata": {
        "colab": {
          "base_uri": "https://localhost:8080/"
        },
        "id": "sI5X_yQa4noH",
        "outputId": "717d77fd-d44b-42f5-daf0-9cddcfa6a650"
      },
      "outputs": [],
      "source": [
        "finder.build_routes()\n",
        "finder.routes.compute_scores(*finder.scorers.objects())\n",
        "finder.routes.all_scores[0]\n"
      ]
    },
    {
      "cell_type": "markdown",
      "metadata": {
        "id": "DAbIjRHCcdNB"
      },
      "source": [
        "... and we can put them in a nice table using Pandas"
      ]
    },
    {
      "cell_type": "code",
      "execution_count": null,
      "metadata": {
        "colab": {
          "base_uri": "https://localhost:8080/",
          "height": 332
        },
        "id": "b95Rlg0QcgJk",
        "outputId": "9822eec6-58e8-4665-a848-c6200d7c2c52"
      },
      "outputs": [],
      "source": [
        "import pandas as pd\n",
        "pd.DataFrame(\n",
        "    finder.routes.all_scores\n",
        ")"
      ]
    },
    {
      "cell_type": "markdown",
      "metadata": {
        "id": "TyhIWbKUh7NI"
      },
      "source": [
        "Next, we can instantiate another available scorer that is a route score suggested by [Badowski and co-workers](https://pubs.rsc.org/en/content/articlelanding/2019/sc/c8sc05611k).\n",
        "\n",
        "The limitation with this score for our current experiment is that:\n",
        "- we don't have a stock that provides cost of the starting material\n",
        "- we don't have a cost of each reaction\n",
        "- we don't have an estimate of the yield in each step\n",
        "\n",
        "Therefore, we are using an assumed yield of 0.8, a reaction cost of 1 and the cost of starting material is 1 for anything that is in stock and 10 for everything else."
      ]
    },
    {
      "cell_type": "code",
      "execution_count": null,
      "metadata": {
        "colab": {
          "base_uri": "https://localhost:8080/",
          "height": 349
        },
        "id": "0bTdOvJthaQU",
        "outputId": "d67e8526-c08e-4998-c462-1b7b99eb5e8c"
      },
      "outputs": [],
      "source": [
        "from aizynthfinder.context.scoring import RouteCostScorer\n",
        "scorer = RouteCostScorer(finder.config)\n",
        "finder.routes.compute_scores(scorer)\n",
        "pd.DataFrame(\n",
        "    finder.routes.all_scores\n",
        ")"
      ]
    },
    {
      "cell_type": "markdown",
      "metadata": {
        "id": "PlOz8mSOjvbD"
      },
      "source": [
        "Finally, we will create a custom scorer that takes the difference compared to the maximum depth of the search and scales it with a sigmoid-like function\n",
        "\n",
        "To implement a custom scorer, we need to implement at least three functions\n",
        "- `__repr__` that returns a string label for the scorer. This is what is shown as the column headers above.\n",
        "- `_score_node` that should implement the scoring for the nodes in the search tree\n",
        "- `_score_reaction_tree` that should implement the scoring for a synthesis route\n",
        "\n",
        "(here we are cheating a bit on the `_score_reaction_tree` function, it is not exactly like the `_score_node`. See if you can spot the difference!)"
      ]
    },
    {
      "cell_type": "code",
      "execution_count": null,
      "metadata": {
        "colab": {
          "base_uri": "https://localhost:8080/",
          "height": 349
        },
        "id": "EyQMULGukS7x",
        "outputId": "d26c4478-bc4d-4580-ce3c-ef50d853d499"
      },
      "outputs": [],
      "source": [
        "from aizynthfinder.context.scoring.scorers import Scorer\n",
        "\n",
        "class DeltaNumberOfTransformsScorer(Scorer):\n",
        "\n",
        "    def __init__(self, config):\n",
        "      super().__init__(\n",
        "          config,\n",
        "          scaler_params={\"name\": \"squash\", \"slope\": -1, \"yoffset\": 0, \"xoffset\": 3},\n",
        "      )\n",
        "\n",
        "    def __repr__(self):\n",
        "        return \"delta number of transforms\"\n",
        "\n",
        "    def _score_node(self, node):\n",
        "        return self._config.search.max_transforms - node.state.max_transforms\n",
        "\n",
        "    def _score_reaction_tree(self, tree):\n",
        "        return self._config.max_transforms - len(list(tree.reactions()))\n",
        "\n",
        "custom_scorer = DeltaNumberOfTransformsScorer(finder.config)\n",
        "finder.routes.compute_scores(custom_scorer)\n",
        "pd.DataFrame(\n",
        "    finder.routes.all_scores\n",
        ")"
      ]
    },
    {
      "cell_type": "markdown",
      "metadata": {
        "id": "n1Xa78iznN3H"
      },
      "source": [
        "### Scoring with `rxnutils`\n",
        "\n",
        "Now, we will have a look at some route scoring algorithms that are available in the `rxnutils`package.\n",
        "\n",
        "Before we do this, we will assign classification to the predicted reactions based on the template hash. This is because the scores we will use are based on the the NextMove reaction class, which is missing from the public USPTO model"
      ]
    },
    {
      "cell_type": "code",
      "execution_count": null,
      "metadata": {
        "id": "ZDxlbZ7Ounbz"
      },
      "outputs": [],
      "source": [
        "hash2class = {\n",
        "    '00cfc3ff089c8152916b2b19d242a80c85c8d70fda9ab8b0e8a1e7b52bf3380d': '2.1.1',\n",
        "    '110b771d77121b19f0a012d7c67263575768c8985321b84bf1629ea79c879d51': '6.2.2',\n",
        "    '19f2a0f4c6a46a956748171b40376b6f742843423bcde2abbd8b3a6cf6b0a7b9': '9.3.1',\n",
        "    '21e32ba7f5a8b5ab7b02ba748a13ecbd720a7475e580f0e1ebc3ce935e54b5a2': '2.1.1',\n",
        "    '264a7579c52f48f3c97db6b8bc61252d596b1a7b85cd90bbc48eca4a4c46134c': '2.1.1',\n",
        "    '3d2ded365fb5f402223c094af5dc49e39510bb1325a199cb96a43a0828c1a888': '2.1.2',\n",
        "    '49f31ca31dd097e43d87899a3976cdfcec8d77ac8f69c7b16a07a0d183b5f742': '1.3.6',\n",
        "    '634b5eedc2112400cedf8f3edde0c3e221ba4f01b8b7f27953b2811c42fc31f1': '2.1.10',\n",
        "    '6d0c1070464abadf312613f8d200b60386b42b62476555a9b48aad53e2e82868': '6.2.1',\n",
        "    '866e1a8ac889f536ad4f364036065c6e47f9d15c5f533dbb707d5e47a3434b1a': '9.3.1',\n",
        "    '8bdb325ee96ea0b293bc31507a025e93f4907432629dbb7ba3f79c7ed22c5afe': '3.1.2',\n",
        "    'b12cae7f7da913000dcdba7def39559511339ce3330a7426c5ca0d488d1da652': '2.1.1',\n",
        "    'c42f96a0658c03bc12dc20efce06e66daaeccc675d73631eea24ea610a7227b8': '7.9.2',\n",
        "    'e913b1094150d416bf8203e6e8c96f70bb606ea82d757cc0bdffcc4e7fad5f5a': '2.6.3'\n",
        "}\n",
        "for reaction_tree in finder.routes.reaction_trees:\n",
        "    for reaction in reaction_tree.reactions():\n",
        "        template_hash = reaction.metadata[\"template_hash\"]\n",
        "        reaction.metadata[\"classification\"] = hash2class.get(template_hash, reaction.metadata[\"classification\"])"
      ]
    },
    {
      "cell_type": "markdown",
      "metadata": {
        "id": "BHF3Yov4xvxS"
      },
      "source": [
        "Then we will convert our `aizynthfinder` routes to the internal `SynthesisRoute` object of `rxnutils`."
      ]
    },
    {
      "cell_type": "code",
      "execution_count": null,
      "metadata": {
        "colab": {
          "base_uri": "https://localhost:8080/"
        },
        "id": "baCWMQ-z4xJI",
        "outputId": "a7fcffea-8f68-478f-df31-2f685baa05eb"
      },
      "outputs": [],
      "source": [
        "from rxnutils.routes.readers import read_aizynthfinder_dict\n",
        "routes = [\n",
        "    read_aizynthfinder_dict(reaction_tree.to_dict())\n",
        "    for reaction_tree in finder.routes.reaction_trees]\n",
        "routes[0]"
      ]
    },
    {
      "cell_type": "markdown",
      "metadata": {
        "id": "-c73tPKPnqQ3"
      },
      "source": [
        "These objects have many similar functionality to routes in `AiZynthFinder`. Like you can extract metadata or analyze the structure of the route"
      ]
    },
    {
      "cell_type": "code",
      "execution_count": null,
      "metadata": {
        "colab": {
          "base_uri": "https://localhost:8080/"
        },
        "id": "iTWqKYSRn3Bi",
        "outputId": "6518bb15-5225-4098-c8fe-5fe52623c73d"
      },
      "outputs": [],
      "source": [
        "routes[0].reaction_data()"
      ]
    },
    {
      "cell_type": "code",
      "execution_count": null,
      "metadata": {
        "colab": {
          "base_uri": "https://localhost:8080/"
        },
        "id": "uvUw6BvPn6mz",
        "outputId": "fe6d7565-ec0c-4acb-e815-de7073e8f4aa"
      },
      "outputs": [],
      "source": [
        "routes[0].leaves()"
      ]
    },
    {
      "cell_type": "markdown",
      "metadata": {
        "id": "P13v_K2HoOGW"
      },
      "source": [
        "Next, we will download some data and model files that we will need to score our routes."
      ]
    },
    {
      "cell_type": "code",
      "execution_count": null,
      "metadata": {
        "colab": {
          "base_uri": "https://localhost:8080/"
        },
        "id": "_IAyXgbCoXC2",
        "outputId": "7459a660-89bf-4786-df37-a2f9efd523f6"
      },
      "outputs": [],
      "source": [
        "!mkdir files_scoring\n",
        "!wget https://zenodo.org/records/14533779/files/reaction_class_ranks.csv?download=1 -O files_scoring/reaction_class_ranks.csv\n",
        "!wget https://zenodo.org/records/14533779/files/deepset_route_scoring_sdf.onnx?download=1 -O files_scoring/deepset_route_scoring_sdf.onnx\n",
        "!wget https://zenodo.org/records/14533779/files/scscore_model_1024_bits.onnx?download=1 -O files_scoring/scscore_model_1024_bits.onnx"
      ]
    },
    {
      "cell_type": "markdown",
      "metadata": {
        "id": "4DWHvCt9rWK8"
      },
      "source": [
        "We will start with a score based on a ranking of the reaction classes. We have analysed the internal reaction data of AstraZeneca and has classified NextMove reaction classes based on how often such reactions have been carried out and how often tail succeed.\n",
        "\n",
        "We will also favour the most highly ranked classes. This could also be used to favour some reaction classes that are ranked low when looking at historial data but is preferred for some other reason."
      ]
    },
    {
      "cell_type": "code",
      "execution_count": null,
      "metadata": {
        "id": "ZlH6WJ8kqkeE"
      },
      "outputs": [],
      "source": [
        "df = pd.read_csv(\"files_scoring/reaction_class_ranks.csv\", sep = \",\")\n",
        "reaction_class_ranks = dict(zip(df[\"reaction_class\"], df[\"rank_score\"]))\n",
        "preferred_classes = df[df[\"rank_score\"]>=5].reaction_class"
      ]
    },
    {
      "cell_type": "code",
      "execution_count": null,
      "metadata": {
        "colab": {
          "base_uri": "https://localhost:8080/",
          "height": 349
        },
        "id": "3_eAw_0oqy-w",
        "outputId": "80b5e3c4-6608-4008-a787-1d81e2d572eb"
      },
      "outputs": [],
      "source": [
        "from rxnutils.routes.scoring import reaction_class_rank_score\n",
        "scores_df = pd.DataFrame(finder.routes.all_scores)\n",
        "scores_df[\"reaction class rank\"] = [\n",
        "    reaction_class_rank_score(route, reaction_class_ranks, preferred_classes)\n",
        "    for route in routes\n",
        "]\n",
        "scores_df"
      ]
    },
    {
      "cell_type": "markdown",
      "metadata": {
        "id": "YOBYJeZjyf6N"
      },
      "source": [
        "Next, we will use a trained model developed by [Kaski and co-workers](https://chemrxiv.org/engage/chemrxiv/article-details/67acb4f06dde43c90896605c).\n",
        "\n",
        "This requires both a trained SCScore model for featurizing the reactions, and the deepset model itself."
      ]
    },
    {
      "cell_type": "code",
      "execution_count": null,
      "metadata": {
        "id": "3eGJZ6vQvfkQ"
      },
      "outputs": [],
      "source": [
        "from rxnutils.chem.features.sc_score import SCScore\n",
        "from rxnutils.routes.deepset.scoring import DeepsetModelClient, deepset_route_score\n",
        "\n",
        "# Setup SCScore model\n",
        "scscorer = SCScore(\"files_scoring/scscore_model_1024_bits.onnx\")\n",
        "# Setup the Deepset model client\n",
        "deepset_client = DeepsetModelClient(\"files_scoring/deepset_route_scoring_sdf.onnx\")"
      ]
    },
    {
      "cell_type": "markdown",
      "metadata": {
        "id": "zWmOCHhsy4Wn"
      },
      "source": [
        "we will then compute the raw learned score, which is an abstract distance to the experimental routes used for training the model. The lower score the better.\n",
        "\n",
        "but we will also correct this for route length, i.e. the number of steps, based on expert evaluation of predicted routes."
      ]
    },
    {
      "cell_type": "code",
      "execution_count": null,
      "metadata": {
        "colab": {
          "base_uri": "https://localhost:8080/",
          "height": 366
        },
        "id": "ZysM5XlRvpuF",
        "outputId": "82f7d689-746d-4d83-aee6-de7d489f3d91"
      },
      "outputs": [],
      "source": [
        "scores_df[\"deepset score\"] = [\n",
        "    deepset_route_score(route, deepset_client, scscorer, reaction_class_ranks)\n",
        "    for route in routes\n",
        "]\n",
        "scores_df[\"expert augment score\"] =  0.97 * scores_df[\"deepset score\"] -0.43 * scores_df[\"number of reactions\"]\n",
        "scores_df"
      ]
    },
    {
      "cell_type": "markdown",
      "metadata": {
        "id": "DUGvGkjlzNb7"
      },
      "source": [
        "### Route similarity and clustering\n",
        "\n",
        "In `rxnutils` there are routines to compute the similarity of routes based on an algorithm from [Genheden and Shields](https://pubs.rsc.org/en/content/articlelanding/2025/dd/d4dd00292j).\n",
        "\n",
        "We can visualize these similarities using a heatmap\n"
      ]
    },
    {
      "cell_type": "code",
      "execution_count": null,
      "metadata": {
        "id": "FalWUqP82BGi"
      },
      "outputs": [],
      "source": [
        "sel_args = RouteSelectionArguments(nmin=10)\n",
        "finder.build_routes(sel_args)\n",
        "routes_large_set = [\n",
        "    read_aizynthfinder_dict(reaction_tree.to_dict())\n",
        "    for reaction_tree in finder.routes.reaction_trees\n",
        "]"
      ]
    },
    {
      "cell_type": "code",
      "execution_count": null,
      "metadata": {
        "colab": {
          "base_uri": "https://localhost:8080/",
          "height": 453
        },
        "id": "zAWn6SGEzM0v",
        "outputId": "990a9441-96ed-45d6-f0bc-d2c622d8ef11"
      },
      "outputs": [],
      "source": [
        "import seaborn as sn\n",
        "from rxnutils.routes.comparison import simple_route_similarity\n",
        "similarities = simple_route_similarity(routes)\n",
        "sn.heatmap(similarities)"
      ]
    },
    {
      "cell_type": "markdown",
      "metadata": {
        "id": "xPT-6WNU9wjG"
      },
      "source": [
        "we see that route 1 is rather different from most other routes.\n",
        "\n",
        "You can visualize routes 0 and 1 and try to figure out why they are different."
      ]
    },
    {
      "cell_type": "code",
      "execution_count": null,
      "metadata": {
        "colab": {
          "base_uri": "https://localhost:8080/",
          "height": 489
        },
        "id": "iRYYd-CNz2te",
        "outputId": "fe7f1b7a-6c0d-47e6-8765-415f666f0b64"
      },
      "outputs": [],
      "source": [
        "routes[0].image()"
      ]
    },
    {
      "cell_type": "code",
      "execution_count": null,
      "metadata": {
        "colab": {
          "base_uri": "https://localhost:8080/",
          "height": 598
        },
        "id": "HLqXkxSLz4-N",
        "outputId": "4ba1194e-ecd7-40eb-8ffa-1caae176c14f"
      },
      "outputs": [],
      "source": [
        "routes[1].image()"
      ]
    },
    {
      "cell_type": "markdown",
      "metadata": {
        "id": "Tqth2bND97Yy"
      },
      "source": [
        "Next, we will show how you can cluster routes. But we will start plotting the dendrogram.  "
      ]
    },
    {
      "cell_type": "code",
      "execution_count": null,
      "metadata": {
        "colab": {
          "base_uri": "https://localhost:8080/",
          "height": 434
        },
        "id": "Yl06SY3H2lRH",
        "outputId": "ceb1a0cb-55a1-4072-bce8-5d688a1e1bfd"
      },
      "outputs": [],
      "source": [
        "import numpy as np\n",
        "from scipy.cluster.hierarchy import dendrogram\n",
        "from sklearn.cluster import AgglomerativeClustering\n",
        "\n",
        "model2 = AgglomerativeClustering(linkage=\"single\", metric=\"precomputed\", n_clusters=None, distance_threshold=0.0)\n",
        "model2.fit(1.0-similarities)\n",
        "counts = np.zeros(len(model2.distances_))\n",
        "matrix = np.column_stack([model2.children_, model2.distances_, counts])\n",
        "_ = dendrogram(\n",
        "    matrix,\n",
        "    color_threshold=0.0,\n",
        "    labels=np.arange(0, len(routes)),\n",
        ")"
      ]
    },
    {
      "cell_type": "markdown",
      "metadata": {
        "id": "U7Srq33P-mNK"
      },
      "source": [
        "This is of course reflecting what we saw in the heatmap. That route 1 is rather disimilar to the othe routes, and that route 0 is most similar to routes 4-6.\n",
        "\n",
        "If try to create 3 clusters from these routes, we find that most routes end up in a single big cluster"
      ]
    },
    {
      "cell_type": "code",
      "execution_count": null,
      "metadata": {
        "colab": {
          "base_uri": "https://localhost:8080/"
        },
        "id": "hzjHuf6I-De_",
        "outputId": "5625abd7-ba4a-44c2-f784-1592b53aea26"
      },
      "outputs": [],
      "source": [
        "model = AgglomerativeClustering(linkage=\"single\", metric=\"precomputed\", n_clusters=3)\n",
        "model.fit(1.0-similarities)\n",
        "model.labels_"
      ]
    },
    {
      "cell_type": "markdown",
      "metadata": {
        "id": "HHcTWlIp-66-"
      },
      "source": [
        "Try to experiment with extracting more routes from the search and repeat the analysis of scores, similarities and clusters.\n",
        "\n",
        "In the next tutorial, we will explore how to adjust the retrosynthesis search in some various ways."
      ]
    }
  ],
  "metadata": {
    "colab": {
      "provenance": []
    },
    "kernelspec": {
      "display_name": "Python 3",
      "name": "python3"
    },
    "language_info": {
      "name": "python"
    }
  },
  "nbformat": 4,
  "nbformat_minor": 0
}
